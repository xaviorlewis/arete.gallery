{
  "nbformat": 4,
  "nbformat_minor": 0,
  "metadata": {
    "colab": {
      "name": "get_spotify_features.ipynb",
      "provenance": [],
      "include_colab_link": true
    },
    "kernelspec": {
      "name": "python3",
      "display_name": "Python 3"
    },
    "language_info": {
      "name": "python"
    }
  },
  "cells": [
    {
      "cell_type": "markdown",
      "metadata": {
        "id": "view-in-github",
        "colab_type": "text"
      },
      "source": [
        "<a href=\"https://colab.research.google.com/github/xaviorlewis/arete.gallery/blob/main/get_spotify_features.ipynb\" target=\"_parent\"><img src=\"https://colab.research.google.com/assets/colab-badge.svg\" alt=\"Open In Colab\"/></a>"
      ]
    },
    {
      "cell_type": "code",
      "execution_count": null,
      "metadata": {
        "colab": {
          "base_uri": "https://localhost:8080/"
        },
        "id": "mOyUczkO_DZ-",
        "outputId": "63cf6587-0a86-4ba9-9121-4393b5fe9e82"
      },
      "outputs": [
        {
          "output_type": "stream",
          "name": "stdout",
          "text": [
            "Collecting spotipy\n",
            "  Downloading spotipy-2.19.0-py3-none-any.whl (27 kB)\n",
            "Requirement already satisfied: six>=1.15.0 in /usr/local/lib/python3.7/dist-packages (from spotipy) (1.15.0)\n",
            "Collecting requests>=2.25.0\n",
            "  Downloading requests-2.26.0-py2.py3-none-any.whl (62 kB)\n",
            "\u001b[K     |████████████████████████████████| 62 kB 374 kB/s \n",
            "\u001b[?25hCollecting urllib3>=1.26.0\n",
            "  Downloading urllib3-1.26.7-py2.py3-none-any.whl (138 kB)\n",
            "\u001b[K     |████████████████████████████████| 138 kB 38.1 MB/s \n",
            "\u001b[?25hRequirement already satisfied: idna<4,>=2.5 in /usr/local/lib/python3.7/dist-packages (from requests>=2.25.0->spotipy) (2.10)\n",
            "Requirement already satisfied: certifi>=2017.4.17 in /usr/local/lib/python3.7/dist-packages (from requests>=2.25.0->spotipy) (2021.10.8)\n",
            "Requirement already satisfied: charset-normalizer~=2.0.0 in /usr/local/lib/python3.7/dist-packages (from requests>=2.25.0->spotipy) (2.0.8)\n",
            "Installing collected packages: urllib3, requests, spotipy\n",
            "  Attempting uninstall: urllib3\n",
            "    Found existing installation: urllib3 1.24.3\n",
            "    Uninstalling urllib3-1.24.3:\n",
            "      Successfully uninstalled urllib3-1.24.3\n",
            "  Attempting uninstall: requests\n",
            "    Found existing installation: requests 2.23.0\n",
            "    Uninstalling requests-2.23.0:\n",
            "      Successfully uninstalled requests-2.23.0\n",
            "\u001b[31mERROR: pip's dependency resolver does not currently take into account all the packages that are installed. This behaviour is the source of the following dependency conflicts.\n",
            "google-colab 1.0.0 requires requests~=2.23.0, but you have requests 2.26.0 which is incompatible.\n",
            "datascience 0.10.6 requires folium==0.2.1, but you have folium 0.8.3 which is incompatible.\u001b[0m\n",
            "Successfully installed requests-2.26.0 spotipy-2.19.0 urllib3-1.26.7\n"
          ]
        }
      ],
      "source": [
        "!pip install spotipy"
      ]
    },
    {
      "cell_type": "code",
      "source": [
        "import spotipy\n",
        "import spotipy.oauth2 as util\n",
        "import pandas as pd"
      ],
      "metadata": {
        "id": "15pjM07a_OVt"
      },
      "execution_count": null,
      "outputs": []
    },
    {
      "cell_type": "code",
      "source": [
        "#spotify api information\n",
        "CLIENT_ID = \"6106dba10817485b8286c84cfa9489d4\"\n",
        "CLIENT_SECRET = \"73cf20eb8aba4f109b310a67d5defac8\""
      ],
      "metadata": {
        "id": "2RwuvQtI_PDT"
      },
      "execution_count": null,
      "outputs": []
    },
    {
      "cell_type": "code",
      "source": [
        "token = util.SpotifyClientCredentials(client_id=CLIENT_ID, client_secret=CLIENT_SECRET)\n",
        "cache_token = token.get_access_token(as_dict=False)\n",
        "sp = spotipy.Spotify(cache_token)"
      ],
      "metadata": {
        "id": "lQiBa_Vg_hBg"
      },
      "execution_count": null,
      "outputs": []
    },
    {
      "cell_type": "code",
      "source": [
        "#create function to scrape spotify api and build dataframe from found data\n",
        "\n",
        "def analyze_playlist2(user_id, playlist_id):\n",
        "\n",
        "# Create empty dataframe\n",
        "  playlist_features_list = [\"artist\",\"album\",\"track_name\",  \"track_id\",\"danceability\",\"energy\",\"key\",\"loudness\",\"mode\", \"speechiness\",\"instrumentalness\",\"liveness\",\"valence\",\"tempo\", \"duration_ms\",\"time_signature\"]\n",
        "\n",
        "  playlist_df = pd.DataFrame(columns = playlist_features_list)\n",
        "\n",
        "# Loop through every track in the playlist, extract features and append the features to the playlist df\n",
        "  creator = \"lstanfill\"\n",
        "  playlist = sp.user_playlist_tracks(creator, playlist_id)[\"tracks\"][\"items\"]\n",
        "  for track in playlist:\n",
        "    # Create empty dict\n",
        "    playlist_features = {}\n",
        "    # Get metadata\n",
        "    playlist_features[\"artist\"] = track[\"track\"][\"album\"][\"artists\"][0][\"name\"]\n",
        "    playlist_features[\"album\"] = track[\"track\"][\"album\"][\"name\"]\n",
        "    playlist_features[\"track_name\"] = track[\"track\"][\"name\"]\n",
        "    playlist_features[\"track_id\"] = track[\"track\"][\"id\"]\n",
        "    \n",
        "# Get audio features\n",
        "    audio_features = sp.audio_features(playlist_features[\"track_id\"])[0]\n",
        "    for feature in playlist_features_list[4:]:\n",
        "        playlist_features[feature] = audio_features[feature]\n",
        "    \n",
        "    # Concat the dfs\n",
        "    track_df = pd.DataFrame(playlist_features, index = [0])\n",
        "    playlist_df = pd.concat([playlist_df, track_df], ignore_index = True)\n",
        "    \n",
        "  return playlist_df"
      ],
      "metadata": {
        "id": "gBbZuJy6BOY5"
      },
      "execution_count": null,
      "outputs": []
    },
    {
      "cell_type": "markdown",
      "source": [
        "Too many timeout errors forced us to separate the master playlist into 4 smaller ones. Scraping below:"
      ],
      "metadata": {
        "id": "EyWtCu9bz7Lm"
      }
    },
    {
      "cell_type": "code",
      "source": [
        "py1 = analyze_playlist2(\"lstanfll\", \"32edHT48Bbq7bHgetgapLo?si=a748190a455b4e18\")"
      ],
      "metadata": {
        "id": "oEVi1CkQBjxj"
      },
      "execution_count": null,
      "outputs": []
    },
    {
      "cell_type": "code",
      "source": [
        "py2 = analyze_playlist2(\"lstanfll\", \"204YEv34ZkI1wZCKymK9aI?si=9184fcaa14804dd0\")"
      ],
      "metadata": {
        "id": "B1A7LNiYBubw"
      },
      "execution_count": null,
      "outputs": []
    },
    {
      "cell_type": "code",
      "source": [
        "py3 = analyze_playlist2(\"lstanfll\", \"0Z6sS68aNmWGsMRCes9LDZ?si=2327a18271fd4f6d\")"
      ],
      "metadata": {
        "id": "RJk0_bxQlLnJ"
      },
      "execution_count": null,
      "outputs": []
    },
    {
      "cell_type": "code",
      "source": [
        "py4 = analyze_playlist2(\"lstanfll\", \"38PokUd0iSIk5MIVqqdU3n?si=b592bba7974646b7\")"
      ],
      "metadata": {
        "id": "Q-xHy4D6lY1E"
      },
      "execution_count": null,
      "outputs": []
    },
    {
      "cell_type": "code",
      "source": [
        "#concatenate the four dataframes into one\n",
        "\n",
        "fullpy = pd.concat([py1,py2,py3,py4], ignore_index=True, sort=False)\n",
        "fullpy"
      ],
      "metadata": {
        "colab": {
          "base_uri": "https://localhost:8080/",
          "height": 583
        },
        "id": "3t7YpZyBll-P",
        "outputId": "00e3fbd0-6668-4b90-b49d-eca22f351580"
      },
      "execution_count": null,
      "outputs": [
        {
          "output_type": "execute_result",
          "data": {
            "text/html": [
              "<div>\n",
              "<style scoped>\n",
              "    .dataframe tbody tr th:only-of-type {\n",
              "        vertical-align: middle;\n",
              "    }\n",
              "\n",
              "    .dataframe tbody tr th {\n",
              "        vertical-align: top;\n",
              "    }\n",
              "\n",
              "    .dataframe thead th {\n",
              "        text-align: right;\n",
              "    }\n",
              "</style>\n",
              "<table border=\"1\" class=\"dataframe\">\n",
              "  <thead>\n",
              "    <tr style=\"text-align: right;\">\n",
              "      <th></th>\n",
              "      <th>artist</th>\n",
              "      <th>album</th>\n",
              "      <th>track_name</th>\n",
              "      <th>track_id</th>\n",
              "      <th>danceability</th>\n",
              "      <th>energy</th>\n",
              "      <th>key</th>\n",
              "      <th>loudness</th>\n",
              "      <th>mode</th>\n",
              "      <th>speechiness</th>\n",
              "      <th>instrumentalness</th>\n",
              "      <th>liveness</th>\n",
              "      <th>valence</th>\n",
              "      <th>tempo</th>\n",
              "      <th>duration_ms</th>\n",
              "      <th>time_signature</th>\n",
              "    </tr>\n",
              "  </thead>\n",
              "  <tbody>\n",
              "    <tr>\n",
              "      <th>0</th>\n",
              "      <td>Bad Bunny</td>\n",
              "      <td>X 100PRE</td>\n",
              "      <td>NI BIEN NI MAL</td>\n",
              "      <td>278kSqsZIiYp8p3QjYAqa8</td>\n",
              "      <td>0.826</td>\n",
              "      <td>0.449</td>\n",
              "      <td>5</td>\n",
              "      <td>-8.330</td>\n",
              "      <td>0</td>\n",
              "      <td>0.0674</td>\n",
              "      <td>1.85e-05</td>\n",
              "      <td>0.2730</td>\n",
              "      <td>0.337</td>\n",
              "      <td>128.028</td>\n",
              "      <td>236216</td>\n",
              "      <td>4</td>\n",
              "    </tr>\n",
              "    <tr>\n",
              "      <th>1</th>\n",
              "      <td>Bad Bunny</td>\n",
              "      <td>X 100PRE</td>\n",
              "      <td>200 Mph</td>\n",
              "      <td>5jGUJXnELDaDTgiRjD9lsg</td>\n",
              "      <td>0.850</td>\n",
              "      <td>0.500</td>\n",
              "      <td>8</td>\n",
              "      <td>-6.708</td>\n",
              "      <td>1</td>\n",
              "      <td>0.0665</td>\n",
              "      <td>0.000384</td>\n",
              "      <td>0.0947</td>\n",
              "      <td>0.816</td>\n",
              "      <td>160.020</td>\n",
              "      <td>170509</td>\n",
              "      <td>4</td>\n",
              "    </tr>\n",
              "    <tr>\n",
              "      <th>2</th>\n",
              "      <td>Bad Bunny</td>\n",
              "      <td>X 100PRE</td>\n",
              "      <td>Cuando Perriabas</td>\n",
              "      <td>5mj8WVFcKdGA8p9HWGTSLc</td>\n",
              "      <td>0.787</td>\n",
              "      <td>0.705</td>\n",
              "      <td>0</td>\n",
              "      <td>-7.582</td>\n",
              "      <td>1</td>\n",
              "      <td>0.0695</td>\n",
              "      <td>1.06e-06</td>\n",
              "      <td>0.1080</td>\n",
              "      <td>0.499</td>\n",
              "      <td>81.998</td>\n",
              "      <td>188654</td>\n",
              "      <td>4</td>\n",
              "    </tr>\n",
              "    <tr>\n",
              "      <th>3</th>\n",
              "      <td>Bad Bunny</td>\n",
              "      <td>X 100PRE</td>\n",
              "      <td>La Romana</td>\n",
              "      <td>1khmgu0pveJbkbpbkyvcQv</td>\n",
              "      <td>0.655</td>\n",
              "      <td>0.725</td>\n",
              "      <td>0</td>\n",
              "      <td>-5.497</td>\n",
              "      <td>1</td>\n",
              "      <td>0.1880</td>\n",
              "      <td>0.00264</td>\n",
              "      <td>0.0611</td>\n",
              "      <td>0.326</td>\n",
              "      <td>125.800</td>\n",
              "      <td>300579</td>\n",
              "      <td>4</td>\n",
              "    </tr>\n",
              "    <tr>\n",
              "      <th>4</th>\n",
              "      <td>Bad Bunny</td>\n",
              "      <td>X 100PRE</td>\n",
              "      <td>Como Antes</td>\n",
              "      <td>69ZaPBHhRMRDjRpW1ivnOU</td>\n",
              "      <td>0.767</td>\n",
              "      <td>0.379</td>\n",
              "      <td>0</td>\n",
              "      <td>-10.348</td>\n",
              "      <td>1</td>\n",
              "      <td>0.0385</td>\n",
              "      <td>0.000145</td>\n",
              "      <td>0.2170</td>\n",
              "      <td>0.252</td>\n",
              "      <td>103.956</td>\n",
              "      <td>230578</td>\n",
              "      <td>4</td>\n",
              "    </tr>\n",
              "    <tr>\n",
              "      <th>...</th>\n",
              "      <td>...</td>\n",
              "      <td>...</td>\n",
              "      <td>...</td>\n",
              "      <td>...</td>\n",
              "      <td>...</td>\n",
              "      <td>...</td>\n",
              "      <td>...</td>\n",
              "      <td>...</td>\n",
              "      <td>...</td>\n",
              "      <td>...</td>\n",
              "      <td>...</td>\n",
              "      <td>...</td>\n",
              "      <td>...</td>\n",
              "      <td>...</td>\n",
              "      <td>...</td>\n",
              "      <td>...</td>\n",
              "    </tr>\n",
              "    <tr>\n",
              "      <th>372</th>\n",
              "      <td>BTS</td>\n",
              "      <td>Wings</td>\n",
              "      <td>BTS Cypher 4</td>\n",
              "      <td>1QWxddJmOhQb1vDdyTipMR</td>\n",
              "      <td>0.817</td>\n",
              "      <td>0.797</td>\n",
              "      <td>1</td>\n",
              "      <td>-4.395</td>\n",
              "      <td>0</td>\n",
              "      <td>0.0840</td>\n",
              "      <td>7.77e-06</td>\n",
              "      <td>0.0551</td>\n",
              "      <td>0.362</td>\n",
              "      <td>119.977</td>\n",
              "      <td>294463</td>\n",
              "      <td>4</td>\n",
              "    </tr>\n",
              "    <tr>\n",
              "      <th>373</th>\n",
              "      <td>BTS</td>\n",
              "      <td>Wings</td>\n",
              "      <td>Am I Wrong</td>\n",
              "      <td>1ORnZ5RmTKhVxPrjORKxAE</td>\n",
              "      <td>0.761</td>\n",
              "      <td>0.834</td>\n",
              "      <td>6</td>\n",
              "      <td>-4.992</td>\n",
              "      <td>1</td>\n",
              "      <td>0.0494</td>\n",
              "      <td>1e-05</td>\n",
              "      <td>0.0868</td>\n",
              "      <td>0.680</td>\n",
              "      <td>107.988</td>\n",
              "      <td>213082</td>\n",
              "      <td>4</td>\n",
              "    </tr>\n",
              "    <tr>\n",
              "      <th>374</th>\n",
              "      <td>BTS</td>\n",
              "      <td>Wings</td>\n",
              "      <td>21st Century Girl</td>\n",
              "      <td>6RioKpKPuG1vuyU0wnlAZx</td>\n",
              "      <td>0.716</td>\n",
              "      <td>0.906</td>\n",
              "      <td>2</td>\n",
              "      <td>-3.539</td>\n",
              "      <td>1</td>\n",
              "      <td>0.0717</td>\n",
              "      <td>0</td>\n",
              "      <td>0.0547</td>\n",
              "      <td>0.762</td>\n",
              "      <td>101.028</td>\n",
              "      <td>192597</td>\n",
              "      <td>4</td>\n",
              "    </tr>\n",
              "    <tr>\n",
              "      <th>375</th>\n",
              "      <td>BTS</td>\n",
              "      <td>Wings</td>\n",
              "      <td>2! 3!</td>\n",
              "      <td>0ma7lbs8BsVIv2kSaqOsDI</td>\n",
              "      <td>0.439</td>\n",
              "      <td>0.928</td>\n",
              "      <td>7</td>\n",
              "      <td>-4.096</td>\n",
              "      <td>1</td>\n",
              "      <td>0.2330</td>\n",
              "      <td>0</td>\n",
              "      <td>0.1000</td>\n",
              "      <td>0.599</td>\n",
              "      <td>169.928</td>\n",
              "      <td>272537</td>\n",
              "      <td>4</td>\n",
              "    </tr>\n",
              "    <tr>\n",
              "      <th>376</th>\n",
              "      <td>BTS</td>\n",
              "      <td>Wings</td>\n",
              "      <td>Interlude: Wings</td>\n",
              "      <td>6xtjXO1EbKNLMIEGZQU3Fv</td>\n",
              "      <td>0.638</td>\n",
              "      <td>0.851</td>\n",
              "      <td>11</td>\n",
              "      <td>-3.042</td>\n",
              "      <td>0</td>\n",
              "      <td>0.0662</td>\n",
              "      <td>0</td>\n",
              "      <td>0.1140</td>\n",
              "      <td>0.600</td>\n",
              "      <td>125.000</td>\n",
              "      <td>144314</td>\n",
              "      <td>4</td>\n",
              "    </tr>\n",
              "  </tbody>\n",
              "</table>\n",
              "<p>377 rows × 16 columns</p>\n",
              "</div>"
            ],
            "text/plain": [
              "        artist     album         track_name  ...    tempo  duration_ms  time_signature\n",
              "0    Bad Bunny  X 100PRE     NI BIEN NI MAL  ...  128.028       236216               4\n",
              "1    Bad Bunny  X 100PRE            200 Mph  ...  160.020       170509               4\n",
              "2    Bad Bunny  X 100PRE   Cuando Perriabas  ...   81.998       188654               4\n",
              "3    Bad Bunny  X 100PRE          La Romana  ...  125.800       300579               4\n",
              "4    Bad Bunny  X 100PRE         Como Antes  ...  103.956       230578               4\n",
              "..         ...       ...                ...  ...      ...          ...             ...\n",
              "372        BTS     Wings       BTS Cypher 4  ...  119.977       294463               4\n",
              "373        BTS     Wings         Am I Wrong  ...  107.988       213082               4\n",
              "374        BTS     Wings  21st Century Girl  ...  101.028       192597               4\n",
              "375        BTS     Wings              2! 3!  ...  169.928       272537               4\n",
              "376        BTS     Wings   Interlude: Wings  ...  125.000       144314               4\n",
              "\n",
              "[377 rows x 16 columns]"
            ]
          },
          "metadata": {},
          "execution_count": 43
        }
      ]
    },
    {
      "cell_type": "code",
      "source": [
        "#save as csv\n",
        "fullpy.to_csv('/content/drive/MyDrive/QRML/projects/final/data/feature_df.csv')"
      ],
      "metadata": {
        "id": "BloqjSuVndwZ"
      },
      "execution_count": null,
      "outputs": []
    }
  ]
}